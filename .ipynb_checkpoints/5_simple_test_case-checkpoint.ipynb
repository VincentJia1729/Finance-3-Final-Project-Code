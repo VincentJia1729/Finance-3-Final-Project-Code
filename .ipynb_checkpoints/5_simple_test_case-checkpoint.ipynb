{
 "cells": [
  {
   "cell_type": "markdown",
   "id": "d07b288f-19ab-42f5-983f-ad274f1ff29d",
   "metadata": {},
   "source": [
    "# 5 Simple Test Case"
   ]
  },
  {
   "cell_type": "code",
   "execution_count": 3,
   "id": "8c62b1d9-4b50-4e40-b876-ee0ad131f52f",
   "metadata": {},
   "outputs": [],
   "source": [
    "# If we simulate data using the GARCH model, can our algorithm learn the GARCH model?"
   ]
  },
  {
   "cell_type": "code",
   "execution_count": 1,
   "id": "ac2b92ed-7127-4d71-b83a-a1446046deb3",
   "metadata": {},
   "outputs": [],
   "source": [
    "# We choose an arbitrary GARCH model to generate data\n",
    "# The inputs will only be the parameters to the GARCH model"
   ]
  },
  {
   "cell_type": "code",
   "execution_count": null,
   "id": "5f6212e1-e593-4419-b978-063a68eb0f43",
   "metadata": {},
   "outputs": [],
   "source": []
  }
 ],
 "metadata": {
  "kernelspec": {
   "display_name": "Python 3 (ipykernel)",
   "language": "python",
   "name": "python3"
  },
  "language_info": {
   "codemirror_mode": {
    "name": "ipython",
    "version": 3
   },
   "file_extension": ".py",
   "mimetype": "text/x-python",
   "name": "python",
   "nbconvert_exporter": "python",
   "pygments_lexer": "ipython3",
   "version": "3.12.4"
  }
 },
 "nbformat": 4,
 "nbformat_minor": 5
}
